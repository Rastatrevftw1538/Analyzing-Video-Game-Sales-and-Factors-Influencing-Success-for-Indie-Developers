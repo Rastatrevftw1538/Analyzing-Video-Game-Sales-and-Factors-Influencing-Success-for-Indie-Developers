{
 "cells": [
  {
   "cell_type": "code",
   "execution_count": null,
   "metadata": {},
   "outputs": [],
   "source": [
    "import pandas as pd\n",
    "import ast\n",
    "from sklearn.model_selection import train_test_split\n",
    "from sklearn.preprocessing import LabelEncoder\n",
    "from sklearn.svm import SVR\n",
    "from sklearn.ensemble import RandomForestRegressor\n",
    "from sklearn.linear_model import LinearRegression\n",
    "from sklearn.neural_network import MLPRegressor\n",
    "from sklearn.metrics import mean_squared_error"
   ]
  },
  {
   "cell_type": "markdown",
   "metadata": {},
   "source": [
    "Pull data from CSV"
   ]
  },
  {
   "cell_type": "code",
   "execution_count": null,
   "metadata": {},
   "outputs": [],
   "source": [
    "column_names = [\"name\",\"total_shipped\", \"genres\", \"themes\", \"game_engines\", \"age_ratings\"]\n",
    "df = pd.read_csv(\"videogame_data.csv\", sep=\",\")"
   ]
  },
  {
   "cell_type": "markdown",
   "metadata": {},
   "source": [
    "Preprocessing"
   ]
  },
  {
   "cell_type": "code",
   "execution_count": null,
   "metadata": {},
   "outputs": [],
   "source": [
    "label_encoders = {}\n",
    "encoded_values_dict = {}\n",
    "\n",
    "for column in [\"genres\", \"themes\", \"age_ratings\", \"game_engines\"]:\n",
    "    label_encoders[column] = LabelEncoder()\n",
    "    label_encoders[column].fit(df[column].explode())\n",
    "\n",
    "    # Create a dictionary with values as keys and encoding values as values\n",
    "    encoded_values_dict[column] = {cls: enc for enc, cls in enumerate(label_encoders[column].classes_)}\n",
    "    \n",
    "X = df.drop(columns=[\"total_shipped\",\"name\"])\n",
    "y = df[\"total_shipped\"]\n",
    "X_encoded = X.copy()\n",
    "for column in [\"genres\", \"themes\", \"age_ratings\", \"game_engines\"]:\n",
    "    encoded_column = []\n",
    "    for val in X[column]:\n",
    "        encoded_values = encoded_values_dict[column][val]\n",
    "        encoded_column.append(encoded_values)\n",
    "    X_encoded[column] = encoded_column"
   ]
  },
  {
   "cell_type": "markdown",
   "metadata": {},
   "source": [
    "Training and Testing values"
   ]
  },
  {
   "cell_type": "code",
   "execution_count": null,
   "metadata": {},
   "outputs": [],
   "source": [
    "X_train, X_test, y_train, y_test = train_test_split(X_encoded, y, test_size=0.2, random_state=42)"
   ]
  },
  {
   "cell_type": "code",
   "execution_count": null,
   "metadata": {},
   "outputs": [],
   "source": [
    "svm_model = SVR(kernel='rbf', C=1.0, epsilon=2.2)\n",
    "random_forest_model = RandomForestRegressor(max_features=\"log2\")\n",
    "linear_regression_model = LinearRegression(n_jobs=-1)\n",
    "neural_net_model = MLPRegressor(hidden_layer_sizes=(50, 30, 10), activation=\"relu\", random_state=42)\n",
    "\n",
    "svm_model.fit(X_train, y_train)\n",
    "random_forest_model.fit(X_train, y_train)\n",
    "linear_regression_model.fit(X_train, y_train)\n",
    "neural_net_model.fit(X_train, y_train)"
   ]
  },
  {
   "cell_type": "code",
   "execution_count": null,
   "metadata": {},
   "outputs": [],
   "source": [
    "# Model Prediction\n",
    "svm_predictions = svm_model.predict(X_test)\n",
    "rf_predictions = random_forest_model.predict(X_test)\n",
    "lr_predictions = linear_regression_model.predict(X_test)\n",
    "nn_predictions = neural_net_model.predict(X_test)"
   ]
  },
  {
   "cell_type": "code",
   "execution_count": null,
   "metadata": {},
   "outputs": [],
   "source": [
    "# Evaluation\n",
    "svm_mse = mean_squared_error(y_test, svm_predictions)\n",
    "rf_mse = mean_squared_error(y_test, rf_predictions)\n",
    "lr_mse = mean_squared_error(y_test, lr_predictions)\n",
    "nn_mse = mean_squared_error(y_test, nn_predictions)\n",
    "\n",
    "model_data = {\n",
    "    \"svm_model\": {\"model\":svm_model,\"MSE\":svm_mse},\n",
    "    \"random_forest_model\": {\"model\":random_forest_model,\"MSE\":rf_mse},\n",
    "    \"linear_regression_model\": {\"model\":linear_regression_model,\"MSE\":lr_mse},\n",
    "    \"neural_net_model\": {\"model\":neural_net_model,\"MSE\":nn_mse}\n",
    "}\n",
    "model_data = dict(sorted(model_data.items(), key=lambda item: item[1][\"MSE\"]))\n",
    "best_model = list(model_data.items())[0][1][\"model\"]\n",
    "\n",
    "print(\"Support Vector Machines MSE:\", svm_mse)\n",
    "print(\"Random Forest MSE:\", rf_mse)\n",
    "print(\"Linear Regression MSE:\", lr_mse)\n",
    "print(\"Neural Network MSE:\", nn_mse)\n",
    "\n",
    "print(\"Best is: \"+ str(list(model_data.items())[0][0]))\n"
   ]
  },
  {
   "cell_type": "code",
   "execution_count": null,
   "metadata": {},
   "outputs": [],
   "source": [
    "game_name = input(\"Enter your games name: \")\n",
    "user_input_dict = {\n",
    "    \"genres\": str([genre.strip().lower() for genre in input(\"Enter genres (comma separated): \").split(\",\")]),\n",
    "    \"themes\": str([theme.strip().lower() for theme in input(\"Enter themes (comma separated): \").split(\",\")]),\n",
    "    \"game_engines\": input(\"Enter the game engine you will be using: \").strip().lower(),\n",
    "    \"age_ratings\": input(\"Enter the age rating: \").strip().lower(),\n",
    "}\n",
    "\n",
    "#print([user_input_dict])\n",
    "df_user_input = pd.DataFrame([user_input_dict],columns=[\"genres\", \"themes\", \"game_engines\", \"age_ratings\"])\n",
    "#print(df_user_input)\n",
    "\n",
    "# Apply the encoding using the encoded_values_dict for list values\n",
    "for column in [\"genres\", \"themes\"]:\n",
    "    encoded_values = []\n",
    "    for val in df_user_input[column]:\n",
    "        if val in encoded_values_dict[column]:\n",
    "            encoded_values.append(encoded_values_dict[column][val])\n",
    "        else:\n",
    "            #if combo does not exist in model, take the first suggestion\n",
    "            print(ast.literal_eval(val))\n",
    "            value_list = ast.literal_eval(val)\n",
    "            if str([value_list[0]]) in encoded_values_dict[column]:\n",
    "                encoded_values.append(encoded_values_dict[column][str([value_list[0]])])\n",
    "            else:\n",
    "                encoded_values.append(-1)\n",
    "    df_user_input[column] = encoded_values\n",
    "\n",
    "# Apply the encoding for non-list values\n",
    "for column in [\"game_engines\", \"age_ratings\"]:\n",
    "    encoded_values = []\n",
    "    for val in df_user_input[column]:\n",
    "        if val in encoded_values_dict[column]:\n",
    "            encoded_values.append(encoded_values_dict[column][val])\n",
    "        else:\n",
    "            encoded_values.append(-1)\n",
    "    df_user_input[column] = encoded_values\n",
    "\n",
    "\n",
    "df_user_input_encoded = pd.DataFrame(df_user_input, columns=[\"genres\", \"themes\", \"age_ratings\", \"game_engines\"])\n",
    "best_predictions = best_model.predict(df_user_input)\n",
    "print(game_name+\" will sell around \"+str(round(best_predictions[0],2))+\" Million copies based on previous data\")"
   ]
  }
 ],
 "metadata": {
  "kernelspec": {
   "display_name": "Python 3",
   "language": "python",
   "name": "python3"
  },
  "language_info": {
   "codemirror_mode": {
    "name": "ipython",
    "version": 3
   },
   "file_extension": ".py",
   "mimetype": "text/x-python",
   "name": "python",
   "nbconvert_exporter": "python",
   "pygments_lexer": "ipython3",
   "version": "3.11.4"
  },
  "orig_nbformat": 4
 },
 "nbformat": 4,
 "nbformat_minor": 2
}
